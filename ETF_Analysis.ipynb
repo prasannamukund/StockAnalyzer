{
 "cells": [
  {
   "cell_type": "code",
   "execution_count": 1,
   "metadata": {},
   "outputs": [],
   "source": [
    "#!/usr/bin/env python3\n",
    "# -*- coding: utf-8 -*-"
   ]
  },
  {
   "cell_type": "markdown",
   "metadata": {},
   "source": [
    "Created on Tue Dec 28 10:17:47 2021\n",
    "@author: prasanna\n",
    "Ref: https://tinytrader.io/how-to-calculate-historical-price-volatility-with-python/"
   ]
  },
  {
   "cell_type": "code",
   "execution_count": 2,
   "metadata": {},
   "outputs": [],
   "source": [
    "import plotly.graph_objects as go\n",
    "import plotly.io as pio\n",
    "import chart_studio.plotly as py\n",
    "import pandas as pd\n",
    "import stockfetcher as sf"
   ]
  },
  {
   "cell_type": "code",
   "execution_count": 3,
   "metadata": {},
   "outputs": [],
   "source": [
    "DEBUG = 1\n",
    "#Names of the ETF/Shares as ISIN code\n",
    "'''\n",
    "stock = ['FR0010655712','FR0010688192','FR0010717090','FR0013284304','LU1602144229',\n",
    "         'LU1602144575','LU1602144732','LU1602144906','LU1681037864','LU1681038243',\n",
    "         'LU1681038599','LU1681038672','LU1681038912','LU1681039134','LU1681039563',\n",
    "         'LU1681039647','LU1681040223','LU1681040900','LU1681041031','LU1681041460',\n",
    "         'LU1681041890','LU1681042609','LU1681043599','LU1681043912','LU1681044480',\n",
    "         'LU1681044647','LU1681044720','LU1681045024','LU1681045370','LU1681045537',\n",
    "         'LU1681046931','LU1681047319','LU1681048804','LU1681049109','LU1737652237',\n",
    "         'LU1737652310','LU1737652583','LU1737652823','LU1737653045','LU1737653714',\n",
    "         'LU1737653987','LU1737654019','LU1931974262','LU1931974429','LU1931974692',\n",
    "         'LU1931974775','LU1931974858','LU1931975079','LU1931975152','LU1931975236',\n",
    "         'LU2037748774','LU1861138961','LU2109787635','LU1861137484','LU1861136247',\n",
    "         'LU1861134382','LU1806495575','LU1437017863','LU2037748345','LU1861132840',\n",
    "         'LU1829220216','LU0533033667','LU2197908721','LU0496786574','LU1838002480',\n",
    "         'FR0007056841','FR0010361683','LU1923627092','LU1812092168','LU1832418773',\n",
    "         'LU1287022708','LU1900068328','LU1841731745','LU0832436512','LU1900066207',\n",
    "         'LU2009202107','DE000ETF9033','DE000ETF9082','DE000ETF9074','LU0252633754',\n",
    "         'LU0603942888','LU1769088581','LU1792117779','LU1563454823','LU1563454310',\n",
    "         'LU1981859819','FR0010527275','FR0010524777','LU1792117696','DE000ETF7011',\n",
    "         'LU0488317701','LU0419741177','LU2023678282','LU2023678878','LU2023679090',\n",
    "         'LU2023679256','LU2023678449','DE000ETF9090','LU2198883410','LU2198882362',\n",
    "         'LU2195226068','LU2198884491']\n",
    "'''\n",
    "stock = ['LU2023679090']\n"
   ]
  },
  {
   "cell_type": "markdown",
   "metadata": {},
   "source": [
    "Get Reference & Constants"
   ]
  },
  {
   "cell_type": "code",
   "execution_count": 4,
   "metadata": {},
   "outputs": [],
   "source": [
    "ticker = '^GDAXI'\n",
    "period = 365 * 3"
   ]
  },
  {
   "cell_type": "code",
   "execution_count": 5,
   "metadata": {},
   "outputs": [],
   "source": [
    "ref_tradays, ref_returns, ref_vol = sf.Get_RetVol(ticker, period)"
   ]
  },
  {
   "cell_type": "code",
   "execution_count": 6,
   "metadata": {},
   "outputs": [
    {
     "name": "stdout",
     "output_type": "stream",
     "text": [
      "Ticker: ^GDAXI No of TradingDays: 760 returns: 49.829533838250754 Vol: 38.90074515708674\n"
     ]
    }
   ],
   "source": [
    "df = pd.DataFrame(columns=['Ticker', 'Returns', 'Volatality', 'Incomplete'])\n",
    "if (DEBUG):\n",
    "    print('Ticker:', ticker, 'No of TradingDays:', ref_tradays,\n",
    "          'returns:', ref_returns*100, 'Vol:', ref_vol*100)"
   ]
  },
  {
   "cell_type": "code",
   "execution_count": 7,
   "metadata": {},
   "outputs": [
    {
     "name": "stdout",
     "output_type": "stream",
     "text": [
      "0 LU2023679090 ELCR.DE\n",
      "Error in Ticker: ELCR.DE Delta ref_tradays: 326\n",
      "Ticker: ELCR.DE returns: 132.31120237280402 Vol: 33.65043616174152\n",
      "Finished fetching the data\n"
     ]
    }
   ],
   "source": [
    "for i in range(0,len(stock)):\n",
    "    ticker = sf.ISIN2Tic(stock[i])+'.DE'\n",
    "    if (DEBUG):\n",
    "        print (i, stock[i], ticker)\n",
    "    try:\n",
    "        tradays, returns, vol = sf.Get_RetVol(ticker, period)\n",
    "        if(tradays < ref_tradays-1):           \n",
    "            incomplete = 'red'\n",
    "            if (DEBUG):\n",
    "                print('Error in Ticker:', ticker, 'Delta ref_tradays:',ref_tradays-tradays)\n",
    "        elif (returns < ref_returns):\n",
    "            incomplete = 'yellow'\n",
    "        else:\n",
    "            incomplete = 'blue'\n",
    "        if (DEBUG):\n",
    "            print('Ticker:', ticker, 'returns:', returns*100, 'Vol:', vol*100)\n",
    "        df = df.append({'Ticker': ticker, 'Returns':returns, 'Volatality':vol,\n",
    "                        'Incomplete':incomplete}, ignore_index=True)\n",
    "    except:\n",
    "        df = df.append({'Ticker': ticker, 'Returns':0.0, 'Volatality':0.0, \n",
    "                        'Incomplete': 1}, ignore_index=True)\n",
    "        print('Exception Ticker:', ticker, 'returns:', 0, 'Vol:', 0.0)\n",
    "        pass\n",
    "    \n",
    "print('Finished fetching the data')"
   ]
  },
  {
   "cell_type": "markdown",
   "metadata": {},
   "source": [
    "Ploting the fetched data"
   ]
  },
  {
   "cell_type": "code",
   "execution_count": null,
   "metadata": {},
   "outputs": [],
   "source": [
    "fig = go.Figure(data=go.Scatter(\n",
    "    x=df.Returns*100,\n",
    "    y=df.Volatality*100,\n",
    "    text=df.Ticker,\n",
    "    marker_color=df.Incomplete,\n",
    "    name='ETFs/Stocks',\n",
    "    mode='markers'))\n",
    "fig.add_trace(go.Scatter(x=[ref_returns*100], y=[ref_vol*100],\n",
    "                         text='DAX40', name='Reference Index',\n",
    "                         mode='markers', marker=dict(size=30, color='pink')))\n",
    "fig.update_layout(title='Risk vs Volatality chart (DKB Aktion ETF analysis)'\n",
    "                  '<br><sup>Blue: Complete Yellow: (returns < reference): Red: Data incomplete</sup>',\n",
    "                  xaxis_title=\"Returns (%)\", yaxis_title=\"Volatality (%)\",)\n",
    "py.iplot(fig, filename='jupyter-basic_bar')"
   ]
  },
  {
   "cell_type": "code",
   "execution_count": null,
   "metadata": {},
   "outputs": [],
   "source": []
  }
 ],
 "metadata": {
  "kernelspec": {
   "display_name": "Python 3",
   "language": "python",
   "name": "python3"
  },
  "language_info": {
   "codemirror_mode": {
    "name": "ipython",
    "version": 3
   },
   "file_extension": ".py",
   "mimetype": "text/x-python",
   "name": "python",
   "nbconvert_exporter": "python",
   "pygments_lexer": "ipython3",
   "version": "3.7.3"
  }
 },
 "nbformat": 4,
 "nbformat_minor": 2
}
